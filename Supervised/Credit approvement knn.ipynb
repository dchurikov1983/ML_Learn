{
 "cells": [
  {
   "cell_type": "markdown",
   "id": "2d5dad94",
   "metadata": {},
   "source": [
    "# Выдача кредита"
   ]
  },
  {
   "cell_type": "markdown",
   "id": "f3158292",
   "metadata": {},
   "source": [
    "описание задачи в файле Screenshot 2022-10-27 at 22.20.27.png"
   ]
  },
  {
   "cell_type": "code",
   "execution_count": 1,
   "id": "4a42c6ee",
   "metadata": {},
   "outputs": [
    {
     "data": {
      "text/html": [
       "<img src=\"Screenshot 2022-10-27 at 22.20.27.png\"/>"
      ],
      "text/plain": [
       "<IPython.core.display.Image object>"
      ]
     },
     "execution_count": 1,
     "metadata": {},
     "output_type": "execute_result"
    }
   ],
   "source": [
    "import numpy as np\n",
    "import pandas as pd\n",
    "\n",
    "from IPython.display import Image\n",
    "from IPython.core.display import HTML \n",
    "#from sklearn.model_selection import train_test_split\n",
    "from sklearn.neighbors import KNeighborsClassifier\n",
    "Image(url= \"Screenshot 2022-10-27 at 22.20.27.png\")"
   ]
  },
  {
   "cell_type": "markdown",
   "id": "fa527fd0",
   "metadata": {},
   "source": [
    "Загружаем данные"
   ]
  },
  {
   "cell_type": "code",
   "execution_count": 2,
   "id": "c124a4c8",
   "metadata": {},
   "outputs": [
    {
     "data": {
      "text/html": [
       "<div>\n",
       "<style scoped>\n",
       "    .dataframe tbody tr th:only-of-type {\n",
       "        vertical-align: middle;\n",
       "    }\n",
       "\n",
       "    .dataframe tbody tr th {\n",
       "        vertical-align: top;\n",
       "    }\n",
       "\n",
       "    .dataframe thead th {\n",
       "        text-align: right;\n",
       "    }\n",
       "</style>\n",
       "<table border=\"1\" class=\"dataframe\">\n",
       "  <thead>\n",
       "    <tr style=\"text-align: right;\">\n",
       "      <th></th>\n",
       "      <th>Возраст</th>\n",
       "      <th>Доход</th>\n",
       "      <th>Кредит одобрен</th>\n",
       "    </tr>\n",
       "  </thead>\n",
       "  <tbody>\n",
       "    <tr>\n",
       "      <th>0</th>\n",
       "      <td>52</td>\n",
       "      <td>30000</td>\n",
       "      <td>Да</td>\n",
       "    </tr>\n",
       "    <tr>\n",
       "      <th>1</th>\n",
       "      <td>27</td>\n",
       "      <td>12000</td>\n",
       "      <td>Нет</td>\n",
       "    </tr>\n",
       "    <tr>\n",
       "      <th>2</th>\n",
       "      <td>21</td>\n",
       "      <td>2000</td>\n",
       "      <td>Нет</td>\n",
       "    </tr>\n",
       "    <tr>\n",
       "      <th>3</th>\n",
       "      <td>71</td>\n",
       "      <td>24000</td>\n",
       "      <td>Нет</td>\n",
       "    </tr>\n",
       "    <tr>\n",
       "      <th>4</th>\n",
       "      <td>34</td>\n",
       "      <td>61000</td>\n",
       "      <td>Да</td>\n",
       "    </tr>\n",
       "    <tr>\n",
       "      <th>5</th>\n",
       "      <td>54</td>\n",
       "      <td>26000</td>\n",
       "      <td>Да</td>\n",
       "    </tr>\n",
       "    <tr>\n",
       "      <th>6</th>\n",
       "      <td>44</td>\n",
       "      <td>70000</td>\n",
       "      <td>Да</td>\n",
       "    </tr>\n",
       "    <tr>\n",
       "      <th>7</th>\n",
       "      <td>24</td>\n",
       "      <td>10000</td>\n",
       "      <td>Нет</td>\n",
       "    </tr>\n",
       "    <tr>\n",
       "      <th>8</th>\n",
       "      <td>48</td>\n",
       "      <td>6000</td>\n",
       "      <td>Нет</td>\n",
       "    </tr>\n",
       "    <tr>\n",
       "      <th>9</th>\n",
       "      <td>65</td>\n",
       "      <td>31000</td>\n",
       "      <td>Да</td>\n",
       "    </tr>\n",
       "    <tr>\n",
       "      <th>10</th>\n",
       "      <td>61</td>\n",
       "      <td>14000</td>\n",
       "      <td>Нет</td>\n",
       "    </tr>\n",
       "    <tr>\n",
       "      <th>11</th>\n",
       "      <td>39</td>\n",
       "      <td>27000</td>\n",
       "      <td>Да</td>\n",
       "    </tr>\n",
       "    <tr>\n",
       "      <th>12</th>\n",
       "      <td>28</td>\n",
       "      <td>17000</td>\n",
       "      <td>Да</td>\n",
       "    </tr>\n",
       "    <tr>\n",
       "      <th>13</th>\n",
       "      <td>72</td>\n",
       "      <td>45000</td>\n",
       "      <td>Нет</td>\n",
       "    </tr>\n",
       "  </tbody>\n",
       "</table>\n",
       "</div>"
      ],
      "text/plain": [
       "    Возраст  Доход Кредит одобрен\n",
       "0        52  30000             Да\n",
       "1        27  12000            Нет\n",
       "2        21   2000            Нет\n",
       "3        71  24000            Нет\n",
       "4        34  61000             Да\n",
       "5        54  26000             Да\n",
       "6        44  70000             Да\n",
       "7        24  10000            Нет\n",
       "8        48   6000            Нет\n",
       "9        65  31000             Да\n",
       "10       61  14000            Нет\n",
       "11       39  27000             Да\n",
       "12       28  17000             Да\n",
       "13       72  45000            Нет"
      ]
     },
     "execution_count": 2,
     "metadata": {},
     "output_type": "execute_result"
    }
   ],
   "source": [
    "data = pd.read_csv(\"credit_approve.csv\",encoding='utf-8', sep=';')\n",
    "data.head(14)"
   ]
  },
  {
   "cell_type": "markdown",
   "id": "dfbac701",
   "metadata": {},
   "source": [
    "Нормализуем"
   ]
  },
  {
   "cell_type": "code",
   "execution_count": 3,
   "id": "8b516231",
   "metadata": {},
   "outputs": [
    {
     "data": {
      "text/plain": [
       "(     Возраст     Доход\n",
       " 0   0.359201  0.160524\n",
       " 1  -1.069441 -0.738409\n",
       " 2  -1.412315 -1.237816\n",
       " 3   1.444969 -0.139121\n",
       " 4  -0.669421  1.708685\n",
       " 5   0.473493 -0.039239\n",
       " 6  -0.097964  2.158152\n",
       " 7  -1.240878 -0.838290\n",
       " 8   0.130619 -1.038053\n",
       " 9   1.102095  0.210464\n",
       " 10  0.873512 -0.638527\n",
       " 11 -0.383692  0.010702\n",
       " 12 -1.012295 -0.488705\n",
       " 13  1.502115  0.909634,\n",
       " 0     1\n",
       " 1     0\n",
       " 2     0\n",
       " 3     0\n",
       " 4     1\n",
       " 5     1\n",
       " 6     1\n",
       " 7     0\n",
       " 8     0\n",
       " 9     1\n",
       " 10    0\n",
       " 11    1\n",
       " 12    1\n",
       " 13    0\n",
       " Name: Кредит одобрен, dtype: int64)"
      ]
     },
     "execution_count": 3,
     "metadata": {},
     "output_type": "execute_result"
    }
   ],
   "source": [
    "data[\"Кредит одобрен\"].replace({'Нет': 0, 'Да': 1}, inplace=True)\n",
    "normalized_df=(data-data.mean())/data.std()\n",
    "normalized_df[\"Кредит одобрен\"]=data[\"Кредит одобрен\"]\n",
    "X=normalized_df.drop(\"Кредит одобрен\",axis=1)\n",
    "y = normalized_df[\"Кредит одобрен\"]\n",
    "X,y"
   ]
  },
  {
   "cell_type": "markdown",
   "id": "a9e390b1",
   "metadata": {},
   "source": [
    "Обучаемся на первых 13 строках"
   ]
  },
  {
   "cell_type": "code",
   "execution_count": 4,
   "id": "e3c056b3",
   "metadata": {},
   "outputs": [
    {
     "data": {
      "text/plain": [
       "KNeighborsClassifier(n_neighbors=3)"
      ]
     },
     "execution_count": 4,
     "metadata": {},
     "output_type": "execute_result"
    }
   ],
   "source": [
    "neigh = KNeighborsClassifier(n_neighbors=3)\n",
    "neigh.fit(X.drop(labels=13, axis=0), y.drop(labels=13, axis=0))"
   ]
  },
  {
   "cell_type": "markdown",
   "id": "d0c6d1f4",
   "metadata": {},
   "source": [
    "Делаем прогноз для последней 14-й строки"
   ]
  },
  {
   "cell_type": "code",
   "execution_count": 5,
   "id": "883e152a",
   "metadata": {},
   "outputs": [
    {
     "name": "stdout",
     "output_type": "stream",
     "text": [
      "Для\n",
      "Возраст       72\n",
      "Доход      45000\n",
      "Name: 13, dtype: int64\n",
      "Прогноз: кредит одобрен\n",
      "Вероятность: 0.6666666666666666%\n"
     ]
    },
    {
     "name": "stderr",
     "output_type": "stream",
     "text": [
      "/usr/local/lib/python3.9/site-packages/sklearn/base.py:441: UserWarning: X does not have valid feature names, but KNeighborsClassifier was fitted with feature names\n",
      "  warnings.warn(\n",
      "/usr/local/lib/python3.9/site-packages/sklearn/base.py:441: UserWarning: X does not have valid feature names, but KNeighborsClassifier was fitted with feature names\n",
      "  warnings.warn(\n"
     ]
    }
   ],
   "source": [
    "print(f'Для\\n{data.drop(labels=\"Кредит одобрен\", axis=1).iloc[13]}')\n",
    "print('Прогноз: кредит одобрен' if neigh.predict(X.drop(labels=range(0,13), axis=0))==1 else 'Прогноз: кредит не одобрен')\n",
    "print(f'Вероятность: {np.amax(neigh.predict_proba(X.drop(labels=range(0,13), axis=0)))}%')"
   ]
  },
  {
   "cell_type": "markdown",
   "id": "fcc5b607",
   "metadata": {},
   "source": [
    "Создаем функцию оценки алгоритма"
   ]
  },
  {
   "cell_type": "code",
   "execution_count": 6,
   "id": "15bf23dd",
   "metadata": {},
   "outputs": [],
   "source": [
    "def accuracy(y_true, y_pred):\n",
    "        accuracy = np.sum(y_true == y_pred) / len(y_true)\n",
    "        return accuracy"
   ]
  },
  {
   "cell_type": "markdown",
   "id": "9c5dc9fd",
   "metadata": {},
   "source": [
    "Считаем качество"
   ]
  },
  {
   "cell_type": "code",
   "execution_count": 7,
   "id": "b7f6f943",
   "metadata": {},
   "outputs": [
    {
     "name": "stdout",
     "output_type": "stream",
     "text": [
      "KNeighborsClassifier classification accuracy 0.9230769230769231\n"
     ]
    },
    {
     "name": "stderr",
     "output_type": "stream",
     "text": [
      "/usr/local/lib/python3.9/site-packages/sklearn/base.py:441: UserWarning: X does not have valid feature names, but KNeighborsClassifier was fitted with feature names\n",
      "  warnings.warn(\n"
     ]
    }
   ],
   "source": [
    "print(\"KNeighborsClassifier classification accuracy\", accuracy(neigh.predict(X.drop(labels=13, axis=0)),y.drop(labels=13, axis=0)))"
   ]
  }
 ],
 "metadata": {
  "kernelspec": {
   "display_name": "Python 3 (ipykernel)",
   "language": "python",
   "name": "python3"
  },
  "language_info": {
   "codemirror_mode": {
    "name": "ipython",
    "version": 3
   },
   "file_extension": ".py",
   "mimetype": "text/x-python",
   "name": "python",
   "nbconvert_exporter": "python",
   "pygments_lexer": "ipython3",
   "version": "3.9.13"
  }
 },
 "nbformat": 4,
 "nbformat_minor": 5
}
