{
 "cells": [
  {
   "cell_type": "markdown",
   "id": "2d5dad94",
   "metadata": {},
   "source": [
    "# Оценка качества воды (1 layer perceptron, sigmoid)"
   ]
  },
  {
   "cell_type": "markdown",
   "id": "f3158292",
   "metadata": {},
   "source": [
    "описание задачи в файле Screenshot 2022-10-27 at 22.31.14.png"
   ]
  },
  {
   "cell_type": "code",
   "execution_count": 1,
   "id": "4a42c6ee",
   "metadata": {},
   "outputs": [
    {
     "data": {
      "text/html": [
       "<img src=\"Screenshot 2022-10-27 at 22.31.14.png\"/>"
      ],
      "text/plain": [
       "<IPython.core.display.Image object>"
      ]
     },
     "execution_count": 1,
     "metadata": {},
     "output_type": "execute_result"
    }
   ],
   "source": [
    "import numpy as np\n",
    "import pandas as pd\n",
    "import torch\n",
    "import torch.nn as nn\n",
    "\n",
    "from IPython.display import Image\n",
    "from IPython.core.display import HTML \n",
    "from sklearn.model_selection import train_test_split\n",
    "Image(url= \"Screenshot 2022-10-27 at 22.31.14.png\")"
   ]
  },
  {
   "cell_type": "markdown",
   "id": "fa527fd0",
   "metadata": {},
   "source": [
    "Загружаем данные"
   ]
  },
  {
   "cell_type": "code",
   "execution_count": 2,
   "id": "c124a4c8",
   "metadata": {},
   "outputs": [
    {
     "data": {
      "text/html": [
       "<div>\n",
       "<style scoped>\n",
       "    .dataframe tbody tr th:only-of-type {\n",
       "        vertical-align: middle;\n",
       "    }\n",
       "\n",
       "    .dataframe tbody tr th {\n",
       "        vertical-align: top;\n",
       "    }\n",
       "\n",
       "    .dataframe thead th {\n",
       "        text-align: right;\n",
       "    }\n",
       "</style>\n",
       "<table border=\"1\" class=\"dataframe\">\n",
       "  <thead>\n",
       "    <tr style=\"text-align: right;\">\n",
       "      <th></th>\n",
       "      <th>Кислотность</th>\n",
       "      <th>Жесткость</th>\n",
       "      <th>Пригодна для питья?</th>\n",
       "    </tr>\n",
       "  </thead>\n",
       "  <tbody>\n",
       "    <tr>\n",
       "      <th>0</th>\n",
       "      <td>3.0</td>\n",
       "      <td>10.0</td>\n",
       "      <td>Нет</td>\n",
       "    </tr>\n",
       "    <tr>\n",
       "      <th>1</th>\n",
       "      <td>11.0</td>\n",
       "      <td>9.8</td>\n",
       "      <td>Нет</td>\n",
       "    </tr>\n",
       "    <tr>\n",
       "      <th>2</th>\n",
       "      <td>7.0</td>\n",
       "      <td>9.0</td>\n",
       "      <td>Да</td>\n",
       "    </tr>\n",
       "    <tr>\n",
       "      <th>3</th>\n",
       "      <td>8.5</td>\n",
       "      <td>8.9</td>\n",
       "      <td>Да</td>\n",
       "    </tr>\n",
       "    <tr>\n",
       "      <th>4</th>\n",
       "      <td>8.3</td>\n",
       "      <td>8.0</td>\n",
       "      <td>Да</td>\n",
       "    </tr>\n",
       "    <tr>\n",
       "      <th>5</th>\n",
       "      <td>6.3</td>\n",
       "      <td>6.4</td>\n",
       "      <td>Нет</td>\n",
       "    </tr>\n",
       "    <tr>\n",
       "      <th>6</th>\n",
       "      <td>12.0</td>\n",
       "      <td>6.0</td>\n",
       "      <td>Нет</td>\n",
       "    </tr>\n",
       "    <tr>\n",
       "      <th>7</th>\n",
       "      <td>7.1</td>\n",
       "      <td>6.0</td>\n",
       "      <td>Да</td>\n",
       "    </tr>\n",
       "    <tr>\n",
       "      <th>8</th>\n",
       "      <td>4.0</td>\n",
       "      <td>10.1</td>\n",
       "      <td>Нет</td>\n",
       "    </tr>\n",
       "    <tr>\n",
       "      <th>9</th>\n",
       "      <td>6.0</td>\n",
       "      <td>7.0</td>\n",
       "      <td>Нет</td>\n",
       "    </tr>\n",
       "    <tr>\n",
       "      <th>10</th>\n",
       "      <td>15.0</td>\n",
       "      <td>13.0</td>\n",
       "      <td>Нет</td>\n",
       "    </tr>\n",
       "    <tr>\n",
       "      <th>11</th>\n",
       "      <td>6.7</td>\n",
       "      <td>9.5</td>\n",
       "      <td>Да</td>\n",
       "    </tr>\n",
       "    <tr>\n",
       "      <th>12</th>\n",
       "      <td>7.5</td>\n",
       "      <td>9.8</td>\n",
       "      <td>Да</td>\n",
       "    </tr>\n",
       "    <tr>\n",
       "      <th>13</th>\n",
       "      <td>8.3</td>\n",
       "      <td>10.3</td>\n",
       "      <td>Да</td>\n",
       "    </tr>\n",
       "  </tbody>\n",
       "</table>\n",
       "</div>"
      ],
      "text/plain": [
       "    Кислотность  Жесткость Пригодна для питья?\n",
       "0           3.0       10.0                 Нет\n",
       "1          11.0        9.8                 Нет\n",
       "2           7.0        9.0                  Да\n",
       "3           8.5        8.9                  Да\n",
       "4           8.3        8.0                  Да\n",
       "5           6.3        6.4                 Нет\n",
       "6          12.0        6.0                 Нет\n",
       "7           7.1        6.0                  Да\n",
       "8           4.0       10.1                 Нет\n",
       "9           6.0        7.0                 Нет\n",
       "10         15.0       13.0                 Нет\n",
       "11          6.7        9.5                  Да\n",
       "12          7.5        9.8                  Да\n",
       "13          8.3       10.3                  Да"
      ]
     },
     "execution_count": 2,
     "metadata": {},
     "output_type": "execute_result"
    }
   ],
   "source": [
    "data = pd.read_csv(\"water_quality.csv\",encoding='utf-8', sep=';')\n",
    "data.head(data.shape[0])"
   ]
  },
  {
   "cell_type": "markdown",
   "id": "dfbac701",
   "metadata": {},
   "source": [
    "Нормализуем"
   ]
  },
  {
   "cell_type": "code",
   "execution_count": 3,
   "id": "8b516231",
   "metadata": {},
   "outputs": [
    {
     "data": {
      "text/html": [
       "<div>\n",
       "<style scoped>\n",
       "    .dataframe tbody tr th:only-of-type {\n",
       "        vertical-align: middle;\n",
       "    }\n",
       "\n",
       "    .dataframe tbody tr th {\n",
       "        vertical-align: top;\n",
       "    }\n",
       "\n",
       "    .dataframe thead th {\n",
       "        text-align: right;\n",
       "    }\n",
       "</style>\n",
       "<table border=\"1\" class=\"dataframe\">\n",
       "  <thead>\n",
       "    <tr style=\"text-align: right;\">\n",
       "      <th></th>\n",
       "      <th>Кислотность</th>\n",
       "      <th>Жесткость</th>\n",
       "    </tr>\n",
       "  </thead>\n",
       "  <tbody>\n",
       "    <tr>\n",
       "      <th>0</th>\n",
       "      <td>-1.576531</td>\n",
       "      <td>0.585053</td>\n",
       "    </tr>\n",
       "    <tr>\n",
       "      <th>1</th>\n",
       "      <td>0.993651</td>\n",
       "      <td>0.483932</td>\n",
       "    </tr>\n",
       "    <tr>\n",
       "      <th>2</th>\n",
       "      <td>-0.291440</td>\n",
       "      <td>0.079452</td>\n",
       "    </tr>\n",
       "    <tr>\n",
       "      <th>3</th>\n",
       "      <td>0.190469</td>\n",
       "      <td>0.028891</td>\n",
       "    </tr>\n",
       "    <tr>\n",
       "      <th>4</th>\n",
       "      <td>0.126214</td>\n",
       "      <td>-0.426149</td>\n",
       "    </tr>\n",
       "    <tr>\n",
       "      <th>5</th>\n",
       "      <td>-0.516331</td>\n",
       "      <td>-1.235111</td>\n",
       "    </tr>\n",
       "    <tr>\n",
       "      <th>6</th>\n",
       "      <td>1.314923</td>\n",
       "      <td>-1.437351</td>\n",
       "    </tr>\n",
       "    <tr>\n",
       "      <th>7</th>\n",
       "      <td>-0.259313</td>\n",
       "      <td>-1.437351</td>\n",
       "    </tr>\n",
       "    <tr>\n",
       "      <th>8</th>\n",
       "      <td>-1.255258</td>\n",
       "      <td>0.635613</td>\n",
       "    </tr>\n",
       "    <tr>\n",
       "      <th>9</th>\n",
       "      <td>-0.612713</td>\n",
       "      <td>-0.931750</td>\n",
       "    </tr>\n",
       "    <tr>\n",
       "      <th>10</th>\n",
       "      <td>2.278741</td>\n",
       "      <td>2.101855</td>\n",
       "    </tr>\n",
       "    <tr>\n",
       "      <th>11</th>\n",
       "      <td>-0.387822</td>\n",
       "      <td>0.332252</td>\n",
       "    </tr>\n",
       "    <tr>\n",
       "      <th>12</th>\n",
       "      <td>-0.130804</td>\n",
       "      <td>0.483932</td>\n",
       "    </tr>\n",
       "    <tr>\n",
       "      <th>13</th>\n",
       "      <td>0.126214</td>\n",
       "      <td>0.736733</td>\n",
       "    </tr>\n",
       "  </tbody>\n",
       "</table>\n",
       "</div>"
      ],
      "text/plain": [
       "    Кислотность  Жесткость\n",
       "0     -1.576531   0.585053\n",
       "1      0.993651   0.483932\n",
       "2     -0.291440   0.079452\n",
       "3      0.190469   0.028891\n",
       "4      0.126214  -0.426149\n",
       "5     -0.516331  -1.235111\n",
       "6      1.314923  -1.437351\n",
       "7     -0.259313  -1.437351\n",
       "8     -1.255258   0.635613\n",
       "9     -0.612713  -0.931750\n",
       "10     2.278741   2.101855\n",
       "11    -0.387822   0.332252\n",
       "12    -0.130804   0.483932\n",
       "13     0.126214   0.736733"
      ]
     },
     "execution_count": 3,
     "metadata": {},
     "output_type": "execute_result"
    }
   ],
   "source": [
    "data[data.columns[2]].replace({'Нет': 0, 'Да': 1}, inplace=True)\n",
    "normalized_df=(data-data.mean())/data.std()\n",
    "normalized_df[data.columns[2]]=data[data.columns[2]]\n",
    "X=normalized_df.drop(data.columns[2],axis=1)\n",
    "y = normalized_df[data.columns[2]]\n",
    "X"
   ]
  },
  {
   "cell_type": "markdown",
   "id": "a9e390b1",
   "metadata": {},
   "source": [
    "Split Data смотрим на все строки кроме последней"
   ]
  },
  {
   "cell_type": "code",
   "execution_count": 4,
   "id": "e3c056b3",
   "metadata": {},
   "outputs": [],
   "source": [
    "X_train, X_test, y_train, y_test = train_test_split( X.drop(labels=data.shape[0]-1, axis=0), y.drop(labels=data.shape[0]-1, axis=0), test_size=0.33, shuffle=True,random_state=100)\n",
    "X_val = X.drop(labels=range(0,data.shape[0]-1), axis=0)"
   ]
  },
  {
   "cell_type": "markdown",
   "id": "9539c4d0",
   "metadata": {},
   "source": [
    "Perceptron woth train loop"
   ]
  },
  {
   "cell_type": "code",
   "execution_count": 5,
   "id": "4842fb36",
   "metadata": {},
   "outputs": [],
   "source": [
    "def sigmoid(x):\n",
    "    return 1/(1 + np.exp(-x))\n",
    "\n",
    "class Perceptron:\n",
    "\n",
    "    def __init__(self, learning_rate=0.01, n_iters=1000):\n",
    "        self.lr = learning_rate\n",
    "        self.n_iters = n_iters\n",
    "        self.activation_func = sigmoid\n",
    "        self.weights = None\n",
    "        self.bias = None\n",
    "\n",
    "\n",
    "    def fit(self, X, y):\n",
    "        n_samples, n_features = X.shape\n",
    "\n",
    "        # init parameters\n",
    "        self.weights = [0.2,0.5]\n",
    "        self.bias = 0.1\n",
    "\n",
    "        y_ = np.where(y > 0 , 1, 0)\n",
    "\n",
    "        # learn weights\n",
    "        for _ in range(self.n_iters):\n",
    "            for idx, x_i in enumerate(X):\n",
    "                linear_output = np.dot(x_i, self.weights) + self.bias\n",
    "                y_predicted = self.activation_func(linear_output)\n",
    "\n",
    "                # Perceptron update rule\n",
    "                update = self.lr * y_predicted * (1 - y_predicted) * (y_[idx] - y_predicted)\n",
    "                \n",
    "                self.weights += update * x_i\n",
    "                #print(x_i)\n",
    "                self.bias += update\n",
    "\n",
    "\n",
    "    def predict(self, X):\n",
    "        linear_output = np.dot(X, self.weights) + self.bias\n",
    "        y_predicted = np.round(self.activation_func(linear_output))\n",
    "        return y_predicted"
   ]
  },
  {
   "cell_type": "markdown",
   "id": "7ce1f37d",
   "metadata": {},
   "source": [
    "Run train loop"
   ]
  },
  {
   "cell_type": "code",
   "execution_count": 6,
   "id": "07ba0bca",
   "metadata": {},
   "outputs": [
    {
     "name": "stdout",
     "output_type": "stream",
     "text": [
      "CPU times: user 102 ms, sys: 29.2 ms, total: 131 ms\n",
      "Wall time: 107 ms\n"
     ]
    }
   ],
   "source": [
    "%%time\n",
    "p = Perceptron(learning_rate=0.01, n_iters=1000)\n",
    "p.fit(X_train.to_numpy(), y_train.to_numpy())"
   ]
  },
  {
   "cell_type": "markdown",
   "id": "d0c6d1f4",
   "metadata": {},
   "source": [
    "Делаем прогноз для последней 14-й строки"
   ]
  },
  {
   "cell_type": "code",
   "execution_count": 7,
   "id": "883e152a",
   "metadata": {},
   "outputs": [
    {
     "name": "stdout",
     "output_type": "stream",
     "text": [
      "Для\n",
      "Кислотность     8.3\n",
      "Жесткость      10.3\n",
      "Name: 13, dtype: float64\n",
      "Прогноз: Пригодна для питья\n"
     ]
    }
   ],
   "source": [
    "print(f'Для\\n{data.drop(labels=data.columns[2], axis=1).iloc[data.shape[0]-1]}')\n",
    "print(f'Прогноз: {str(data.columns[2])[:-1]}' if p.predict(X_val.to_numpy())>0.5 else f'Прогноз: не {data.columns[2]}')"
   ]
  },
  {
   "cell_type": "markdown",
   "id": "3b6b6621",
   "metadata": {},
   "source": [
    "Создаем функцию оценки модели"
   ]
  },
  {
   "cell_type": "code",
   "execution_count": 8,
   "id": "48cecfb3",
   "metadata": {},
   "outputs": [],
   "source": [
    "def accuracy(y_true, y_pred):\n",
    "        accuracy = np.sum(y_true == y_pred) / len(y_true)\n",
    "        return accuracy"
   ]
  },
  {
   "cell_type": "markdown",
   "id": "523ecb15",
   "metadata": {},
   "source": [
    "Считаем качество"
   ]
  },
  {
   "cell_type": "code",
   "execution_count": 9,
   "id": "7de2399c",
   "metadata": {},
   "outputs": [
    {
     "name": "stdout",
     "output_type": "stream",
     "text": [
      "Perceptron classification accuracy 0.875\n"
     ]
    }
   ],
   "source": [
    "print(\"Perceptron classification accuracy\", accuracy(y_train.to_numpy(), p.predict(X_train.to_numpy())))"
   ]
  }
 ],
 "metadata": {
  "kernelspec": {
   "display_name": "Python 3 (ipykernel)",
   "language": "python",
   "name": "python3"
  },
  "language_info": {
   "codemirror_mode": {
    "name": "ipython",
    "version": 3
   },
   "file_extension": ".py",
   "mimetype": "text/x-python",
   "name": "python",
   "nbconvert_exporter": "python",
   "pygments_lexer": "ipython3",
   "version": "3.9.13"
  }
 },
 "nbformat": 4,
 "nbformat_minor": 5
}
